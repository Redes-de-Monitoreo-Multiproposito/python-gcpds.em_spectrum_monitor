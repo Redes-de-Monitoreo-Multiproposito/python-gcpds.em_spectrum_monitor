{
 "cells": [
  {
   "cell_type": "code",
   "execution_count": 1,
   "id": "1ad16bc0-58ac-460f-bd1a-553674f5b41e",
   "metadata": {},
   "outputs": [],
   "source": [
    "import sys\n",
    "sys.path.append('/usr/local/lib/wingpro10')\n",
    "sys.path.append('/home/yeison/Development/PythonDev/Redes-de-Monitoreo-Multiproposito/python-gcpds.em_spectrum_monitor.un')\n",
    "import wingdbstub"
   ]
  },
  {
   "cell_type": "code",
   "execution_count": 2,
   "id": "adaa86cb-a364-419c-88a0-ee75c78210b0",
   "metadata": {},
   "outputs": [],
   "source": [
    "from gcpds.em_spectrum_monitor.utils import Stations"
   ]
  },
  {
   "cell_type": "code",
   "execution_count": 4,
   "id": "b5f2b3f6-a4c0-4eb9-b9c9-578e0cfa88b7",
   "metadata": {},
   "outputs": [
    {
     "name": "stdout",
     "output_type": "stream",
     "text": [
      "{'nombre': 'SUBA AL AIRE 88.4 FM - ÁREA DE SERVICIO No.1', 'organizacion': 'CORPORACIÓN PARA LA COMUNICACIÓN Y LA EDUCACION SUBA AL AIRE', 'location': 'BOGOTA D.C.', 'concesionario': 'CORPORACIÓN PARA LA COMUNICACIÓN Y LA EDUCACION SUBA AL AIRE', 'codigo': '53404', 'frecuencia': '88.4 MHz', 'distintivo': 'HJU51', 'tecnologia': 'FM', 'clase_programa': 'COMUNITARIA', 'latlong': '4.7417028,-74.0831861', 'departamento': 'BOGOTÁ D.C.', 'distance': 3.6178505312433993}\n",
      "{'nombre': 'LA NORTE FM - ÁREA DE SERVICIO No.2', 'organizacion': 'FEDERACION NACIONAL DE LA VIVIENDA POPULAR FENAVIP', 'location': 'BOGOTA D.C.', 'concesionario': 'FEDERACION NACIONAL DE LA VIVIENDA POPULAR FENAVIP', 'codigo': '53398', 'frecuencia': '94.4 MHz', 'distintivo': 'HJU52', 'tecnologia': 'FM', 'clase_programa': 'COMUNITARIA', 'latlong': '4.7370556,-74.01925', 'departamento': 'BOGOTÁ D.C.', 'distance': 6.529207240770406}\n",
      "{'nombre': 'LA FM', 'organizacion': 'HORIZONTE EMISORA COLOMBIANA S.A.S', 'location': 'BOGOTA D.C.', 'concesionario': 'HORIZONTE EMISORA COLOMBIANA S.A.S', 'codigo': '52055', 'frecuencia': '94.9 MHz', 'distintivo': 'HJMO', 'tecnologia': 'FM', 'clase_programa': 'COMERCIAL', 'latlong': '4.6662361,-74.0282528', 'departamento': 'BOGOTÁ D.C.', 'distance': 6.964123585929789}\n",
      "{'nombre': 'LA MEGA ESTÉREO', 'organizacion': 'DIGITAL ESTÉREO S.A.S', 'location': 'BOGOTA D.C.', 'concesionario': 'DIGITAL ESTÉREO S.A.S', 'codigo': '51922', 'frecuencia': '90.9 MHz', 'distintivo': 'HJYY', 'tecnologia': 'FM', 'clase_programa': 'COMERCIAL', 'latlong': '4.6662361,-74.0282528', 'departamento': 'BOGOTÁ D.C.', 'distance': 6.964123585929789}\n",
      "{'nombre': 'LA KALLE', 'organizacion': 'CADENA MELODÍA DE COLOMBIA S.A.S', 'location': 'BOGOTA D.C.', 'concesionario': 'CADENA MELODÍA DE COLOMBIA S.A.S', 'codigo': '51801', 'frecuencia': '96.9 MHz', 'distintivo': 'HJMD', 'tecnologia': 'FM', 'clase_programa': 'COMERCIAL', 'latlong': '4.6657389,-74.0282083', 'departamento': 'BOGOTÁ D.C.', 'distance': 7.007256807960819}\n"
     ]
    }
   ],
   "source": [
    "lat, lon = 4.7111, -74.0721  # Coordinates for Bogotá\n",
    "\n",
    "stations = Stations()\n",
    "nearest_stations = stations.find_nearest_stations(lat, lon, n=5)\n",
    "\n",
    "for station in nearest_stations:\n",
    "    print(station)"
   ]
  },
  {
   "cell_type": "code",
   "execution_count": null,
   "id": "b79541f6-4444-4521-853e-14f6a6e77afa",
   "metadata": {},
   "outputs": [],
   "source": []
  }
 ],
 "metadata": {
  "kernelspec": {
   "display_name": "Python 3 (ipykernel)",
   "language": "python",
   "name": "python3"
  },
  "language_info": {
   "codemirror_mode": {
    "name": "ipython",
    "version": 3
   },
   "file_extension": ".py",
   "mimetype": "text/x-python",
   "name": "python",
   "nbconvert_exporter": "python",
   "pygments_lexer": "ipython3",
   "version": "3.12.2"
  }
 },
 "nbformat": 4,
 "nbformat_minor": 5
}
